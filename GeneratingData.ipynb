{
 "cells": [
  {
   "cell_type": "markdown",
   "id": "c67f2c41",
   "metadata": {},
   "source": [
    "Let's have a look at the data from Tutorial3 (Density Matrix). There, we aim to reconstruct the wavefunction of the 2-qubit W-state:\n",
    "$$\\vert\\psi \\rangle = \\frac{1}{\\sqrt{2}}(\\vert 01\\rangle + \\vert10\\rangle)$$\n",
    "The data can be found in the files \"N2_W_state_100_samples_data.txt\" and \"N2_W_state_1000_samples_data.txt\".\n",
    "\n",
    "Following Tutorial 3, we import the modules"
   ]
  },
  {
   "cell_type": "code",
   "execution_count": 24,
   "id": "c24046c4",
   "metadata": {},
   "outputs": [],
   "source": [
    "import numpy as np\n",
    "import matplotlib.pyplot as plt\n",
    "\n",
    "import torch\n",
    "\n",
    "from qucumber.nn_states import DensityMatrix\n",
    "\n",
    "from qucumber.callbacks import MetricEvaluator\n",
    "import qucumber.utils.unitaries as unitaries\n",
    "\n",
    "import qucumber.utils.training_statistics as ts\n",
    "import qucumber.utils.data as data\n",
    "import qucumber\n",
    "\n",
    "# set random seed on cpu but not gpu, since we won't use gpu for this tutorial\n",
    "qucumber.set_random_seed(1234, cpu=True, gpu=False)"
   ]
  },
  {
   "cell_type": "markdown",
   "id": "28f50a2d",
   "metadata": {},
   "source": [
    "Now we can import the data:"
   ]
  },
  {
   "cell_type": "code",
   "execution_count": 7,
   "id": "0664619d",
   "metadata": {},
   "outputs": [],
   "source": [
    "train_path = \"N2_W_state_100_samples_data.txt\"\n",
    "train_bases_path = \"N2_W_state_100_samples_bases.txt\"\n",
    "matrix_path_real = \"N2_W_state_target_real.txt\"\n",
    "matrix_path_imag = \"N2_W_state_target_imag.txt\"\n",
    "bases_path = \"N2_IC_bases.txt\"\n",
    "\n",
    "\n",
    "train_samples, true_matrix, train_bases, bases = data.load_data_DM(train_path, matrix_path_real, matrix_path_imag, train_bases_path, bases_path)"
   ]
  },
  {
   "cell_type": "markdown",
   "id": "703dbcca",
   "metadata": {},
   "source": [
    "And generate the DensityMatrix, together with its Hilbert space. Still all taken from Tutorial 3."
   ]
  },
  {
   "cell_type": "code",
   "execution_count": 4,
   "id": "957c4f83",
   "metadata": {},
   "outputs": [],
   "source": [
    "unitary_dict = unitaries.create_dict()\n",
    "nv = train_samples.shape[-1]\n",
    "nh = na = nv\n",
    "\n",
    "nn_state = DensityMatrix(num_visible=nv, num_hidden=nh, num_aux=na, unitary_dict=unitary_dict, gpu=False)\n",
    "space = nn_state.generate_hilbert_space()"
   ]
  },
  {
   "cell_type": "markdown",
   "id": "f07a6c41",
   "metadata": {},
   "source": [
    "With the Hilbert space in hand, we can now have a quick look at the frequency of each basis element in the data:"
   ]
  },
  {
   "cell_type": "code",
   "execution_count": 12,
   "id": "2c5d1b7e",
   "metadata": {},
   "outputs": [],
   "source": [
    "c1 = 0 # counts 00\n",
    "c2 = 0 # counts 01\n",
    "c3 = 0 # counts 10\n",
    "c4 = 0 # counts 11\n",
    "\n",
    "# If there is a way of doing list comprehensions with torch.Tensors, please enlighten me :p \n",
    "\n",
    "for sample in train_samples:\n",
    "    if torch.equal(sample,space[0]):\n",
    "       c1 += 1\n",
    "    elif torch.equal(sample,space[1]):\n",
    "       c2 += 1 \n",
    "    elif torch.equal(sample,space[2]):\n",
    "       c3 += 1 \n",
    "    elif torch.equal(sample,space[3]):\n",
    "       c4 += 1 "
   ]
  },
  {
   "cell_type": "markdown",
   "id": "f396e3d3",
   "metadata": {},
   "source": [
    "So now we see that we have "
   ]
  },
  {
   "cell_type": "code",
   "execution_count": 23,
   "id": "4d4b5468",
   "metadata": {},
   "outputs": [
    {
     "data": {
      "text/html": [
       "<div>\n",
       "<style scoped>\n",
       "    .dataframe tbody tr th:only-of-type {\n",
       "        vertical-align: middle;\n",
       "    }\n",
       "\n",
       "    .dataframe tbody tr th {\n",
       "        vertical-align: top;\n",
       "    }\n",
       "\n",
       "    .dataframe thead th {\n",
       "        text-align: right;\n",
       "    }\n",
       "</style>\n",
       "<table border=\"1\" class=\"dataframe\">\n",
       "  <thead>\n",
       "    <tr style=\"text-align: right;\">\n",
       "      <th></th>\n",
       "      <th>basis vector</th>\n",
       "      <th>occurences in data</th>\n",
       "    </tr>\n",
       "  </thead>\n",
       "  <tbody>\n",
       "    <tr>\n",
       "      <th>0</th>\n",
       "      <td>0 0</td>\n",
       "      <td>225</td>\n",
       "    </tr>\n",
       "    <tr>\n",
       "      <th>1</th>\n",
       "      <td>0 1</td>\n",
       "      <td>211</td>\n",
       "    </tr>\n",
       "    <tr>\n",
       "      <th>2</th>\n",
       "      <td>1 0</td>\n",
       "      <td>214</td>\n",
       "    </tr>\n",
       "    <tr>\n",
       "      <th>3</th>\n",
       "      <td>1 1</td>\n",
       "      <td>250</td>\n",
       "    </tr>\n",
       "  </tbody>\n",
       "</table>\n",
       "</div>"
      ],
      "text/plain": [
       "  basis vector  occurences in data\n",
       "0          0 0                 225\n",
       "1          0 1                 211\n",
       "2          1 0                 214\n",
       "3          1 1                 250"
      ]
     },
     "execution_count": 23,
     "metadata": {},
     "output_type": "execute_result"
    }
   ],
   "source": [
    "import pandas as pd\n",
    "import pprint as pp\n",
    "data = {\n",
    "    \"basis vector\": [\"0 0\", \"0 1\", \"1 0\", \"1 1\"],\n",
    "    \"occurences in data\": [c1, c2, c3, c4]\n",
    "}\n",
    "df = pd.DataFrame(data)\n",
    "df"
   ]
  },
  {
   "cell_type": "markdown",
   "id": "92c0a9a2",
   "metadata": {},
   "source": [
    "So, we see that each basis element occurs in roughly equal numbers.\n",
    "\n",
    "But now recall that the state we are interested in reconstructing is\n",
    "$$\\vert\\psi \\rangle = \\frac{1}{\\sqrt{2}}(\\vert 01\\rangle + \\vert10\\rangle)$$\n",
    "So, shouldn´t the data be evenly distributed between the $\\vert01\\rangle$ and $\\vert10\\rangle$ basis elements?"
   ]
  }
 ],
 "metadata": {
  "kernelspec": {
   "display_name": "Python 3 (ipykernel)",
   "language": "python",
   "name": "python3"
  },
  "language_info": {
   "codemirror_mode": {
    "name": "ipython",
    "version": 3
   },
   "file_extension": ".py",
   "mimetype": "text/x-python",
   "name": "python",
   "nbconvert_exporter": "python",
   "pygments_lexer": "ipython3",
   "version": "3.10.1"
  }
 },
 "nbformat": 4,
 "nbformat_minor": 5
}
